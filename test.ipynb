{
 "cells": [
  {
   "cell_type": "code",
   "execution_count": 1,
   "id": "39bdb51b",
   "metadata": {},
   "outputs": [
    {
     "data": {
      "text/plain": [
       "0"
      ]
     },
     "execution_count": 1,
     "metadata": {},
     "output_type": "execute_result"
    }
   ],
   "source": [
    "import math\n",
    "theta = (7 * math.pi)/4\n",
    "def close_to_0_degrees(theta):\n",
    "    d = abs(theta - 2 * math.pi)\n",
    "    closeness_percent = 100 * (1 - d / (math.pi / 4))\n",
    "    return max(0, closeness_percent)\n",
    "close_to_0_degrees(theta - math.pi/2) "
   ]
  }
 ],
 "metadata": {
  "kernelspec": {
   "display_name": "cart",
   "language": "python",
   "name": "python3"
  },
  "language_info": {
   "codemirror_mode": {
    "name": "ipython",
    "version": 3
   },
   "file_extension": ".py",
   "mimetype": "text/x-python",
   "name": "python",
   "nbconvert_exporter": "python",
   "pygments_lexer": "ipython3",
   "version": "3.13.5"
  }
 },
 "nbformat": 4,
 "nbformat_minor": 5
}
