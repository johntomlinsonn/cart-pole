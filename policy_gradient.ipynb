{
 "cells": [
  {
   "cell_type": "markdown",
   "id": "2a7460a5",
   "metadata": {},
   "source": [
    "We will be researching the Cart-pole problem with a policy gradient agorithim"
   ]
  },
  {
   "cell_type": "markdown",
   "id": "8a46013b",
   "metadata": {},
   "source": [
    "We Must first build our enviorment that are reinforcement learning model will learn in"
   ]
  },
  {
   "cell_type": "code",
   "execution_count": 1,
   "id": "e7a8b45c",
   "metadata": {},
   "outputs": [],
   "source": [
    "import mujoco\n",
    "import mujoco_viewer"
   ]
  },
  {
   "cell_type": "markdown",
   "id": "04e23484",
   "metadata": {},
   "source": [
    "Now let's create the neccesary functions for our enviorment\n",
    "\n",
    "Our model will take in 4 values: X value, X velocity, Theta value, Theta velocity.\n",
    "\n",
    "We will need the enviorment randomized every new episode played by the model"
   ]
  },
  {
   "cell_type": "code",
   "execution_count": 4,
   "id": "a54cb5ba",
   "metadata": {},
   "outputs": [],
   "source": [
    "import random as rand\n",
    "import math\n",
    "def Intial_state():\n",
    "    theta = rand.uniform(-math.radians(6), math.radians(6))\n",
    "    xpos = rand.uniform(-0.05, 0.05)\n",
    "    xdot = rand.uniform(-0.5, 0.5)\n",
    "    theta_dot = 0\n",
    "    return xpos, xdot, theta, theta_dot"
   ]
  },
  {
   "cell_type": "markdown",
   "id": "7f5b5274",
   "metadata": {},
   "source": [
    "Now lets make the neccessary functions for our model. It needs to pushed to the left and to the right. We will use the data.crtl[0] to use the simulated acctuators that are in our model. The data element is all of the data of the cartpole at any moment this includes X Velo, theta Velo, X Pos, Theta Pos"
   ]
  },
  {
   "cell_type": "code",
   "execution_count": 5,
   "id": "722a33f1",
   "metadata": {},
   "outputs": [],
   "source": [
    "import numpy as np\n",
    "FORCE_MAG = 1.0\n",
    "\n",
    "def right(data, force=FORCE_MAG):\n",
    "    data.ctrl[0] = np.clip(force, -1.0, 1.0)\n",
    "\n",
    "\n",
    "def left(data, force=FORCE_MAG):\n",
    "    data.ctrl[0] = np.clip(-force, -1.0, 1.0)"
   ]
  },
  {
   "cell_type": "markdown",
   "id": "9c2953de",
   "metadata": {},
   "source": [
    "Our model will need to know the state it is in, so we will create a function to get the raw values of the state for the model"
   ]
  },
  {
   "cell_type": "code",
   "execution_count": 6,
   "id": "99df24db",
   "metadata": {},
   "outputs": [],
   "source": [
    "def gather_raw_state(data):\n",
    "    xpos = data.qpos[0]\n",
    "    xdot = data.qvel[0]\n",
    "    theta = data.qpos[1]\n",
    "    theta_dot = data.qvel[1]\n",
    "    return np.array([xpos, xdot, theta, theta_dot], dtype=np.float32)"
   ]
  },
  {
   "cell_type": "markdown",
   "id": "934afc0a",
   "metadata": {},
   "source": [
    "Now we must create our Nueral Network for the cartpole problem\n",
    "We will be creating a nueral netowrk through pytorch. It will take in 4 dimensions as an input for the network: X Value, X Velocity, Theta value, Theta Velocity\n",
    "\n",
    "We will have 3 layers in the netowrk, teh first will take in the state layer, second being an input from the frist, and the thrid being an input from the second and outputting an action from our action set. Our action set is either sliding to the left or sliding to the right."
   ]
  },
  {
   "cell_type": "code",
   "execution_count": 7,
   "id": "e60ebeed",
   "metadata": {},
   "outputs": [],
   "source": [
    "import torch\n",
    "import torch.nn as nn\n",
    "\n",
    "class PolicyNetwork(nn.Module):\n",
    "    def __init__(self,state_dim = 4, action_dim = 2, hidden_dim = 128):\n",
    "        super().__init__()\n",
    "        self.layer1 = nn.Linear(state_dim, hidden_dim)\n",
    "        self.layer2 = nn.Linear(hidden_dim, hidden_dim)\n",
    "        self.output_layer = nn.Linear(hidden_dim, action_dim)\n",
    "\n",
    "    def forward(self, x):\n",
    "        x = torch.relu(self.layer1(x))\n",
    "        x = torch.softmax(self.layer2(x), dim=-1)\n",
    "        return self.output_layer(x)"
   ]
  },
  {
   "cell_type": "markdown",
   "id": "7f717110",
   "metadata": {},
   "source": [
    "We will also make a sample action functino for the nueral network"
   ]
  },
  {
   "cell_type": "code",
   "execution_count": null,
   "id": "a2441426",
   "metadata": {},
   "outputs": [],
   "source": [
    "def sample_action(policy_net, state):\n",
    "    state = torch.FloatTensor(state).unsqueeze(0)\n",
    "    with torch.no_grad():\n",
    "        action_probs = policy_net(state)\n",
    "    action_distribution = torch.distributions.Categorical(logits=action_probs)\n",
    "    action = action_distribution.sample()\n",
    "    return action"
   ]
  },
  {
   "cell_type": "markdown",
   "id": "74fbe5c1",
   "metadata": {},
   "source": [
    "Now lets add our necessary constants for training"
   ]
  },
  {
   "cell_type": "code",
   "execution_count": 10,
   "id": "687f9f4f",
   "metadata": {},
   "outputs": [],
   "source": [
    "RENDER_TRAINING = True\n",
    "MODEL_PATH = 'cartpole.xml'\n",
    "EPISODES = 300\n",
    "MAX_STEPS = 1000\n"
   ]
  },
  {
   "cell_type": "markdown",
   "id": "bf9f721f",
   "metadata": {},
   "source": [
    "Lets setup the enviorment for the cartpole problem"
   ]
  },
  {
   "cell_type": "code",
   "execution_count": null,
   "id": "f70ff20e",
   "metadata": {},
   "outputs": [
    {
     "ename": "",
     "evalue": "",
     "output_type": "error",
     "traceback": [
      "\u001b[1;31mThe Kernel crashed while executing code in the current cell or a previous cell. \n",
      "\u001b[1;31mPlease review the code in the cell(s) to identify a possible cause of the failure. \n",
      "\u001b[1;31mClick <a href='https://aka.ms/vscodeJupyterKernelCrash'>here</a> for more info. \n",
      "\u001b[1;31mView Jupyter <a href='command:jupyter.viewOutput'>log</a> for further details."
     ]
    }
   ],
   "source": [
    "model = mujoco.MjModel.from_xml_path(MODEL_PATH)\n",
    "data = mujoco.MjData(model)\n",
    "if RENDER_TRAINING:\n",
    "    viewer = mujoco_viewer.MujocoViewer(model, data)\n",
    "else:\n",
    "    viewer = None"
   ]
  },
  {
   "cell_type": "markdown",
   "id": "24d870a9",
   "metadata": {},
   "source": [
    "Now lets Make the training loop for policy gradient"
   ]
  },
  {
   "cell_type": "code",
   "execution_count": null,
   "id": "f3465246",
   "metadata": {},
   "outputs": [],
   "source": [
    "for i in range(EPISODES):\n",
    "    #initialize the environment for each episode to have a random state\n",
    "    data.qpos[0], data.qvel[0], data.qpos[1], data.qvel[1] = Intial_state()\n",
    "    data.ctrl[:] = 0\n",
    "    total_reward = 0\n",
    "\n",
    "    #Lists to store states, actions, and log probabilities for each step\n",
    "    log_probs = []\n",
    "\n",
    "\n",
    "    #Now lets iterate through the steps of the episode\n",
    "    for i in range(MAX_STEPS):\n",
    "        state = gather_raw_state(data)\n",
    "\n",
    "        if RENDER_TRAINING:\n",
    "            viewer.render()\n",
    "        \n",
    "        #Getting the action from the policy network\n",
    "        action = sample_action(policy_net, state)\n",
    "        #Storing the log probability of the action for training later\n",
    "        log_probs.append(action)\n",
    "        if action.item() == 0:\n",
    "            left(data)\n",
    "        else:\n",
    "            right(data)\n",
    "        \n"
   ]
  }
 ],
 "metadata": {
  "kernelspec": {
   "display_name": "cart",
   "language": "python",
   "name": "python3"
  },
  "language_info": {
   "codemirror_mode": {
    "name": "ipython",
    "version": 3
   },
   "file_extension": ".py",
   "mimetype": "text/x-python",
   "name": "python",
   "nbconvert_exporter": "python",
   "pygments_lexer": "ipython3",
   "version": "3.11.3"
  }
 },
 "nbformat": 4,
 "nbformat_minor": 5
}
