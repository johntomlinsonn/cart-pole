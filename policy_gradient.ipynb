{
 "cells": [
  {
   "cell_type": "markdown",
   "id": "2a7460a5",
   "metadata": {},
   "source": [
    "We will be researching the Cart-pole problem with a policy gradient agorithim"
   ]
  },
  {
   "cell_type": "markdown",
   "id": "8a46013b",
   "metadata": {},
   "source": [
    "We Must first build our enviorment that are reinforcement learning model will learn in"
   ]
  },
  {
   "cell_type": "code",
   "execution_count": 1,
   "id": "e7a8b45c",
   "metadata": {},
   "outputs": [],
   "source": [
    "import mujoco\n",
    "import mujoco_viewer\n",
    "import matplotlib.pyplot as plt"
   ]
  },
  {
   "cell_type": "markdown",
   "id": "04e23484",
   "metadata": {},
   "source": [
    "Now let's create the neccesary functions for our enviorment\n",
    "\n",
    "Our model will take in 4 values: X value, X velocity, Theta value, Theta velocity.\n",
    "\n",
    "We will need the enviorment randomized every new episode played by the model"
   ]
  },
  {
   "cell_type": "code",
   "execution_count": 2,
   "id": "a54cb5ba",
   "metadata": {},
   "outputs": [],
   "source": [
    "import random as rand\n",
    "import math\n",
    "def Intial_state():\n",
    "    theta = rand.uniform(-math.radians(6), math.radians(6))\n",
    "    xpos = rand.uniform(-0.05, 0.05)\n",
    "    xdot = rand.uniform(-0.5, 0.5)\n",
    "    theta_dot = 0\n",
    "    return xpos, xdot, theta, theta_dot"
   ]
  },
  {
   "cell_type": "markdown",
   "id": "7f5b5274",
   "metadata": {},
   "source": [
    "Now lets make the neccessary functions for our model. It needs to pushed to the left and to the right. We will use the data.crtl[0] to use the simulated acctuators that are in our model. The data element is all of the data of the cartpole at any moment this includes X Velo, theta Velo, X Pos, Theta Pos"
   ]
  },
  {
   "cell_type": "code",
   "execution_count": 3,
   "id": "722a33f1",
   "metadata": {},
   "outputs": [],
   "source": [
    "import numpy as np\n",
    "FORCE_MAG = 1.0\n",
    "\n",
    "def right(data, force=FORCE_MAG):\n",
    "    data.ctrl[0] = np.clip(force, -1.0, 1.0)\n",
    "\n",
    "\n",
    "def left(data, force=FORCE_MAG):\n",
    "    data.ctrl[0] = np.clip(-force, -1.0, 1.0)"
   ]
  },
  {
   "cell_type": "markdown",
   "id": "9c2953de",
   "metadata": {},
   "source": [
    "Our model will need to know the state it is in, so we will create a function to get the raw values of the state for the model"
   ]
  },
  {
   "cell_type": "code",
   "execution_count": 4,
   "id": "99df24db",
   "metadata": {},
   "outputs": [],
   "source": [
    "def gather_raw_state(data):\n",
    "    xpos = data.qpos[0]\n",
    "    xdot = data.qvel[0]\n",
    "    theta = data.qpos[1]\n",
    "    theta_dot = data.qvel[1]\n",
    "    return np.array([xpos, xdot, theta, theta_dot], dtype=np.float32)"
   ]
  },
  {
   "cell_type": "markdown",
   "id": "d56f1241",
   "metadata": {},
   "source": [
    "We also need a function to normalize the state to make it easeier for the model to make outputs"
   ]
  },
  {
   "cell_type": "code",
   "execution_count": 5,
   "id": "c39f1564",
   "metadata": {},
   "outputs": [],
   "source": [
    "def normalize_state(raw_state):\n",
    "    x, x_dot, theta, theta_dot = raw_state\n",
    "    sin_theta = math.sin(theta)\n",
    "    cos_theta = math.cos(theta)\n",
    "    norm_x = np.clip(x / 1.0, -1.0, 1.0)\n",
    "    norm_x_dot = np.tanh(x_dot)\n",
    "    norm_theta_dot = np.tanh(theta_dot)\n",
    "    return np.array([norm_x, norm_x_dot, sin_theta, cos_theta, norm_theta_dot], dtype=np.float32)"
   ]
  },
  {
   "cell_type": "markdown",
   "id": "84ee6268",
   "metadata": {},
   "source": [
    "Now we will create the reward funcition for the model"
   ]
  },
  {
   "cell_type": "code",
   "execution_count": 6,
   "id": "02579409",
   "metadata": {},
   "outputs": [],
   "source": [
    "#Limits to determine if the episode is done\n",
    "THETA_LIMIT_RADIANS = math.radians(12)\n",
    "X_LIMIT = 1.0"
   ]
  },
  {
   "cell_type": "code",
   "execution_count": null,
   "id": "8e0fd652",
   "metadata": {},
   "outputs": [],
   "source": [
    "def compute_reward(raw_state):\n",
    "    x, x_dot, theta, theta_dot = raw_state\n",
    "    angle_error = abs(theta)\n",
    "\n",
    "    position_error = abs(x)\n",
    "    reward = 1.0\n",
    "    reward -= 2.0 * (angle_error / THETA_LIMIT_RADIANS)\n",
    "    reward -= 0.5 * (position_error / X_LIMIT)\n",
    "    reward -= 0.01 * (abs(x_dot) + abs(theta_dot))\n",
    "    return max(reward, -2.0)\n"
   ]
  },
  {
   "cell_type": "markdown",
   "id": "60d087c1",
   "metadata": {},
   "source": [
    "Now we will make a function to check if an episode is done"
   ]
  },
  {
   "cell_type": "code",
   "execution_count": 8,
   "id": "a10ab3c7",
   "metadata": {},
   "outputs": [],
   "source": [
    "def episode_finished(raw_state):\n",
    "    x, _, theta, _ = raw_state\n",
    "    return abs(theta) > THETA_LIMIT_RADIANS or abs(x) > X_LIMIT"
   ]
  },
  {
   "cell_type": "markdown",
   "id": "934afc0a",
   "metadata": {},
   "source": [
    "Now we must create our Nueral Network for the cartpole problem\n",
    "We will be creating a nueral netowrk through pytorch. It will take in 4 dimensions as an input for the network: X Value, X Velocity, Theta value, Theta Velocity\n",
    "\n",
    "We will have 3 layers in the netowrk, the first will take in the state layer, second being an input from the frist, and the thrid being an input from the second and outputting an action from our action set. Our action set is either sliding to the left or sliding to the right."
   ]
  },
  {
   "cell_type": "code",
   "execution_count": 9,
   "id": "e60ebeed",
   "metadata": {},
   "outputs": [],
   "source": [
    "import torch\n",
    "import torch.nn as nn\n",
    "\n",
    "class PolicyNetwork(nn.Module):\n",
    "    def __init__(self,state_dim = 5, action_dim = 2, hidden_dim = 128):\n",
    "        super().__init__()\n",
    "        self.layer1 = nn.Linear(state_dim, hidden_dim)\n",
    "        self.layer2 = nn.Linear(hidden_dim, hidden_dim)\n",
    "        self.output_layer = nn.Linear(hidden_dim, action_dim)\n",
    "\n",
    "    def forward(self, x):\n",
    "        x = torch.relu(self.layer1(x))\n",
    "        x = torch.relu(self.layer2(x))\n",
    "        return self.output_layer(x)  # logits (unnormalized)\n"
   ]
  },
  {
   "cell_type": "markdown",
   "id": "7f717110",
   "metadata": {},
   "source": [
    "We will also make a sample action function for the nueral network"
   ]
  },
  {
   "cell_type": "code",
   "execution_count": 10,
   "id": "a2441426",
   "metadata": {},
   "outputs": [],
   "source": [
    "def sample_action(policy_net, state):\n",
    "    state_t = torch.as_tensor(state, dtype=torch.float32).unsqueeze(0)\n",
    "    logits = policy_net(state_t)  # shape [1, action_dim]\n",
    "    dist = torch.distributions.Categorical(logits=logits)\n",
    "    action = dist.sample()  # shape [1]\n",
    "    log_prob = dist.log_prob(action)  # shape [1]\n",
    "    return action.item(), log_prob.squeeze(0)\n"
   ]
  },
  {
   "cell_type": "code",
   "execution_count": 11,
   "id": "62eb961c",
   "metadata": {},
   "outputs": [],
   "source": [
    "def compute_discounted_returns(rewards, gamma=0.99):\n",
    "    discounted_returns = []\n",
    "    R = 0\n",
    "    for r in reversed(rewards):\n",
    "        R = r + gamma * R\n",
    "        discounted_returns.insert(0, R)\n",
    "    discounted_returns = torch.FloatTensor(discounted_returns)\n",
    "    discounted_returns = (discounted_returns - discounted_returns.mean()) / (discounted_returns.std() + 1e-8)\n",
    "    return discounted_returns"
   ]
  },
  {
   "cell_type": "markdown",
   "id": "35cc3e24",
   "metadata": {},
   "source": [
    "Code to visualize total reward over time"
   ]
  },
  {
   "cell_type": "code",
   "execution_count": 12,
   "id": "240c66c4",
   "metadata": {},
   "outputs": [],
   "source": [
    "def plot_rewards(total_rewards_over_time):\n",
    "    plt.plot(total_rewards_over_time)\n",
    "    plt.xlabel('Episode')\n",
    "    plt.ylabel('Total Reward')\n",
    "    plt.title('Total Reward Over Time')\n",
    "    plt.savefig('total_rewards_over_time_plot.png')"
   ]
  },
  {
   "cell_type": "markdown",
   "id": "74fbe5c1",
   "metadata": {},
   "source": [
    "Now lets add our necessary constants for training"
   ]
  },
  {
   "cell_type": "code",
   "execution_count": 13,
   "id": "687f9f4f",
   "metadata": {},
   "outputs": [],
   "source": [
    "RENDER_TRAINING = False\n",
    "MODEL_PATH = 'cartpole.xml'\n",
    "EPISODES = 300\n",
    "MAX_STEPS = 1000\n"
   ]
  },
  {
   "cell_type": "markdown",
   "id": "bf9f721f",
   "metadata": {},
   "source": [
    "Lets setup the enviorment for the cartpole problem"
   ]
  },
  {
   "cell_type": "code",
   "execution_count": 14,
   "id": "f70ff20e",
   "metadata": {},
   "outputs": [],
   "source": [
    "model = mujoco.MjModel.from_xml_path(MODEL_PATH)\n",
    "data = mujoco.MjData(model)\n",
    "if RENDER_TRAINING:\n",
    "    viewer = mujoco_viewer.MujocoViewer(model, data)\n",
    "else:\n",
    "    viewer = None"
   ]
  },
  {
   "cell_type": "markdown",
   "id": "341dbc88",
   "metadata": {},
   "source": [
    "Setting up model and optimizers for this"
   ]
  },
  {
   "cell_type": "code",
   "execution_count": 15,
   "id": "da0fe824",
   "metadata": {},
   "outputs": [],
   "source": [
    "policy_net = PolicyNetwork()\n",
    "optimizer = torch.optim.Adam(policy_net.parameters(), lr=0.001)"
   ]
  },
  {
   "cell_type": "markdown",
   "id": "24d870a9",
   "metadata": {},
   "source": [
    "Now lets Make the training loop for policy gradient"
   ]
  },
  {
   "cell_type": "code",
   "execution_count": 17,
   "id": "f3465246",
   "metadata": {},
   "outputs": [
    {
     "name": "stdout",
     "output_type": "stream",
     "text": [
      "Episode 1/300, Total Reward: 7.915, Steps: 42\n",
      "Episode 2/300, Total Reward: 8.439, Steps: 112\n",
      "Episode 2/300, Total Reward: 8.439, Steps: 112\n",
      "Episode 3/300, Total Reward: 21.600, Steps: 49\n",
      "Episode 3/300, Total Reward: 21.600, Steps: 49\n",
      "Episode 4/300, Total Reward: 16.533, Steps: 74\n",
      "Episode 4/300, Total Reward: 16.533, Steps: 74\n",
      "Episode 5/300, Total Reward: 23.169, Steps: 63\n",
      "Episode 5/300, Total Reward: 23.169, Steps: 63\n",
      "Episode 6/300, Total Reward: 19.964, Steps: 62\n",
      "Episode 6/300, Total Reward: 19.964, Steps: 62\n",
      "Episode 7/300, Total Reward: -5.249, Steps: 47\n",
      "Episode 7/300, Total Reward: -5.249, Steps: 47\n",
      "Episode 8/300, Total Reward: -51.445, Steps: 130\n",
      "Episode 8/300, Total Reward: -51.445, Steps: 130\n",
      "Episode 9/300, Total Reward: -7.973, Steps: 26\n",
      "Episode 9/300, Total Reward: -7.973, Steps: 26\n",
      "Episode 10/300, Total Reward: -2.035, Steps: 24\n",
      "Episode 10/300, Total Reward: -2.035, Steps: 24\n",
      "Episode 11/300, Total Reward: 12.328, Steps: 79\n",
      "Episode 11/300, Total Reward: 12.328, Steps: 79\n",
      "Episode 12/300, Total Reward: 31.311, Steps: 85\n",
      "Episode 12/300, Total Reward: 31.311, Steps: 85\n",
      "Episode 13/300, Total Reward: 46.652, Steps: 95\n",
      "Episode 13/300, Total Reward: 46.652, Steps: 95\n",
      "Episode 14/300, Total Reward: -16.284, Steps: 33\n",
      "Episode 14/300, Total Reward: -16.284, Steps: 33\n",
      "Episode 15/300, Total Reward: 8.849, Steps: 52\n",
      "Episode 15/300, Total Reward: 8.849, Steps: 52\n",
      "Episode 16/300, Total Reward: -5.605, Steps: 104\n",
      "Episode 16/300, Total Reward: -5.605, Steps: 104\n",
      "Episode 17/300, Total Reward: -8.978, Steps: 38\n",
      "Episode 17/300, Total Reward: -8.978, Steps: 38\n",
      "Episode 18/300, Total Reward: 14.570, Steps: 70\n",
      "Episode 18/300, Total Reward: 14.570, Steps: 70\n",
      "Episode 19/300, Total Reward: -51.633, Steps: 93\n",
      "Episode 19/300, Total Reward: -51.633, Steps: 93\n",
      "Episode 20/300, Total Reward: 138.039, Steps: 254\n",
      "Episode 20/300, Total Reward: 138.039, Steps: 254\n",
      "Episode 21/300, Total Reward: 1.325, Steps: 37\n",
      "Episode 21/300, Total Reward: 1.325, Steps: 37\n",
      "Episode 22/300, Total Reward: 46.293, Steps: 98\n",
      "Episode 22/300, Total Reward: 46.293, Steps: 98\n",
      "Episode 23/300, Total Reward: 28.569, Steps: 73\n",
      "Episode 23/300, Total Reward: 28.569, Steps: 73\n",
      "Episode 24/300, Total Reward: 8.873, Steps: 55\n",
      "Episode 24/300, Total Reward: 8.873, Steps: 55\n",
      "Episode 25/300, Total Reward: -16.073, Steps: 112\n",
      "Episode 25/300, Total Reward: -16.073, Steps: 112\n",
      "Episode 26/300, Total Reward: 56.250, Steps: 141\n",
      "Episode 26/300, Total Reward: 56.250, Steps: 141\n",
      "Episode 27/300, Total Reward: -2.327, Steps: 48\n",
      "Episode 27/300, Total Reward: -2.327, Steps: 48\n",
      "Episode 28/300, Total Reward: 32.764, Steps: 134\n",
      "Episode 28/300, Total Reward: 32.764, Steps: 134\n",
      "Episode 29/300, Total Reward: -7.801, Steps: 42\n",
      "Episode 29/300, Total Reward: -7.801, Steps: 42\n",
      "Episode 30/300, Total Reward: 1.913, Steps: 39\n",
      "Episode 30/300, Total Reward: 1.913, Steps: 39\n",
      "Episode 31/300, Total Reward: -16.703, Steps: 51\n",
      "Episode 31/300, Total Reward: -16.703, Steps: 51\n",
      "Episode 32/300, Total Reward: -8.750, Steps: 50\n",
      "Episode 32/300, Total Reward: -8.750, Steps: 50\n",
      "Episode 33/300, Total Reward: 17.770, Steps: 54\n",
      "Episode 33/300, Total Reward: 17.770, Steps: 54\n",
      "Episode 34/300, Total Reward: -13.806, Steps: 78\n",
      "Episode 34/300, Total Reward: -13.806, Steps: 78\n",
      "Episode 35/300, Total Reward: 35.799, Steps: 120\n",
      "Episode 35/300, Total Reward: 35.799, Steps: 120\n",
      "Episode 36/300, Total Reward: 2.393, Steps: 21\n",
      "Episode 36/300, Total Reward: 2.393, Steps: 21\n",
      "Episode 37/300, Total Reward: 7.955, Steps: 91\n",
      "Episode 37/300, Total Reward: 7.955, Steps: 91\n",
      "Episode 38/300, Total Reward: -21.404, Steps: 64\n",
      "Episode 38/300, Total Reward: -21.404, Steps: 64\n",
      "Episode 39/300, Total Reward: 2.616, Steps: 47\n",
      "Episode 39/300, Total Reward: 2.616, Steps: 47\n",
      "Episode 40/300, Total Reward: -0.198, Steps: 38\n",
      "Episode 40/300, Total Reward: -0.198, Steps: 38\n",
      "Episode 41/300, Total Reward: -12.118, Steps: 36\n",
      "Episode 41/300, Total Reward: -12.118, Steps: 36\n"
     ]
    },
    {
     "ename": "KeyboardInterrupt",
     "evalue": "",
     "output_type": "error",
     "traceback": [
      "\u001b[31m---------------------------------------------------------------------------\u001b[39m",
      "\u001b[31mKeyboardInterrupt\u001b[39m                         Traceback (most recent call last)",
      "\u001b[36mCell\u001b[39m\u001b[36m \u001b[39m\u001b[32mIn[17]\u001b[39m\u001b[32m, line 64\u001b[39m\n\u001b[32m     61\u001b[39m optimizer.step()\n\u001b[32m     63\u001b[39m total_rewards_overtime.append(total_reward)\n\u001b[32m---> \u001b[39m\u001b[32m64\u001b[39m \u001b[43mplot_rewards\u001b[49m\u001b[43m(\u001b[49m\u001b[43mtotal_rewards_overtime\u001b[49m\u001b[43m)\u001b[49m\n\u001b[32m     67\u001b[39m \u001b[38;5;28mprint\u001b[39m(\u001b[33mf\u001b[39m\u001b[33m\"\u001b[39m\u001b[33mEpisode \u001b[39m\u001b[38;5;132;01m{\u001b[39;00mi+\u001b[32m1\u001b[39m\u001b[38;5;132;01m}\u001b[39;00m\u001b[33m/\u001b[39m\u001b[38;5;132;01m{\u001b[39;00mEPISODES\u001b[38;5;132;01m}\u001b[39;00m\u001b[33m, Total Reward: \u001b[39m\u001b[38;5;132;01m{\u001b[39;00m\u001b[38;5;28mfloat\u001b[39m(total_reward)\u001b[38;5;132;01m:\u001b[39;00m\u001b[33m.3f\u001b[39m\u001b[38;5;132;01m}\u001b[39;00m\u001b[33m, Steps: \u001b[39m\u001b[38;5;132;01m{\u001b[39;00mstep+\u001b[32m1\u001b[39m\u001b[38;5;132;01m}\u001b[39;00m\u001b[33m\"\u001b[39m)\n",
      "\u001b[36mCell\u001b[39m\u001b[36m \u001b[39m\u001b[32mIn[12]\u001b[39m\u001b[32m, line 6\u001b[39m, in \u001b[36mplot_rewards\u001b[39m\u001b[34m(total_rewards_over_time)\u001b[39m\n\u001b[32m      4\u001b[39m plt.ylabel(\u001b[33m'\u001b[39m\u001b[33mTotal Reward\u001b[39m\u001b[33m'\u001b[39m)\n\u001b[32m      5\u001b[39m plt.title(\u001b[33m'\u001b[39m\u001b[33mTotal Reward Over Time\u001b[39m\u001b[33m'\u001b[39m)\n\u001b[32m----> \u001b[39m\u001b[32m6\u001b[39m \u001b[43mplt\u001b[49m\u001b[43m.\u001b[49m\u001b[43msavefig\u001b[49m\u001b[43m(\u001b[49m\u001b[33;43m'\u001b[39;49m\u001b[33;43mtotal_rewards_over_time_plot.png\u001b[39;49m\u001b[33;43m'\u001b[39;49m\u001b[43m)\u001b[49m\n",
      "\u001b[36mFile \u001b[39m\u001b[32mc:\\Users\\bobtt\\OneDrive\\Desktop\\Documents\\JackCS\\cartpole\\cart\\Lib\\site-packages\\matplotlib\\pyplot.py:1250\u001b[39m, in \u001b[36msavefig\u001b[39m\u001b[34m(*args, **kwargs)\u001b[39m\n\u001b[32m   1247\u001b[39m fig = gcf()\n\u001b[32m   1248\u001b[39m \u001b[38;5;66;03m# savefig default implementation has no return, so mypy is unhappy\u001b[39;00m\n\u001b[32m   1249\u001b[39m \u001b[38;5;66;03m# presumably this is here because subclasses can return?\u001b[39;00m\n\u001b[32m-> \u001b[39m\u001b[32m1250\u001b[39m res = \u001b[43mfig\u001b[49m\u001b[43m.\u001b[49m\u001b[43msavefig\u001b[49m\u001b[43m(\u001b[49m\u001b[43m*\u001b[49m\u001b[43margs\u001b[49m\u001b[43m,\u001b[49m\u001b[43m \u001b[49m\u001b[43m*\u001b[49m\u001b[43m*\u001b[49m\u001b[43mkwargs\u001b[49m\u001b[43m)\u001b[49m  \u001b[38;5;66;03m# type: ignore[func-returns-value]\u001b[39;00m\n\u001b[32m   1251\u001b[39m fig.canvas.draw_idle()  \u001b[38;5;66;03m# Need this if 'transparent=True', to reset colors.\u001b[39;00m\n\u001b[32m   1252\u001b[39m \u001b[38;5;28;01mreturn\u001b[39;00m res\n",
      "\u001b[36mFile \u001b[39m\u001b[32mc:\\Users\\bobtt\\OneDrive\\Desktop\\Documents\\JackCS\\cartpole\\cart\\Lib\\site-packages\\matplotlib\\figure.py:3490\u001b[39m, in \u001b[36mFigure.savefig\u001b[39m\u001b[34m(self, fname, transparent, **kwargs)\u001b[39m\n\u001b[32m   3488\u001b[39m     \u001b[38;5;28;01mfor\u001b[39;00m ax \u001b[38;5;129;01min\u001b[39;00m \u001b[38;5;28mself\u001b[39m.axes:\n\u001b[32m   3489\u001b[39m         _recursively_make_axes_transparent(stack, ax)\n\u001b[32m-> \u001b[39m\u001b[32m3490\u001b[39m \u001b[38;5;28;43mself\u001b[39;49m\u001b[43m.\u001b[49m\u001b[43mcanvas\u001b[49m\u001b[43m.\u001b[49m\u001b[43mprint_figure\u001b[49m\u001b[43m(\u001b[49m\u001b[43mfname\u001b[49m\u001b[43m,\u001b[49m\u001b[43m \u001b[49m\u001b[43m*\u001b[49m\u001b[43m*\u001b[49m\u001b[43mkwargs\u001b[49m\u001b[43m)\u001b[49m\n",
      "\u001b[36mFile \u001b[39m\u001b[32mc:\\Users\\bobtt\\OneDrive\\Desktop\\Documents\\JackCS\\cartpole\\cart\\Lib\\site-packages\\matplotlib\\backend_bases.py:2186\u001b[39m, in \u001b[36mFigureCanvasBase.print_figure\u001b[39m\u001b[34m(self, filename, dpi, facecolor, edgecolor, orientation, format, bbox_inches, pad_inches, bbox_extra_artists, backend, **kwargs)\u001b[39m\n\u001b[32m   2182\u001b[39m \u001b[38;5;28;01mtry\u001b[39;00m:\n\u001b[32m   2183\u001b[39m     \u001b[38;5;66;03m# _get_renderer may change the figure dpi (as vector formats\u001b[39;00m\n\u001b[32m   2184\u001b[39m     \u001b[38;5;66;03m# force the figure dpi to 72), so we need to set it again here.\u001b[39;00m\n\u001b[32m   2185\u001b[39m     \u001b[38;5;28;01mwith\u001b[39;00m cbook._setattr_cm(\u001b[38;5;28mself\u001b[39m.figure, dpi=dpi):\n\u001b[32m-> \u001b[39m\u001b[32m2186\u001b[39m         result = \u001b[43mprint_method\u001b[49m\u001b[43m(\u001b[49m\n\u001b[32m   2187\u001b[39m \u001b[43m            \u001b[49m\u001b[43mfilename\u001b[49m\u001b[43m,\u001b[49m\n\u001b[32m   2188\u001b[39m \u001b[43m            \u001b[49m\u001b[43mfacecolor\u001b[49m\u001b[43m=\u001b[49m\u001b[43mfacecolor\u001b[49m\u001b[43m,\u001b[49m\n\u001b[32m   2189\u001b[39m \u001b[43m            \u001b[49m\u001b[43medgecolor\u001b[49m\u001b[43m=\u001b[49m\u001b[43medgecolor\u001b[49m\u001b[43m,\u001b[49m\n\u001b[32m   2190\u001b[39m \u001b[43m            \u001b[49m\u001b[43morientation\u001b[49m\u001b[43m=\u001b[49m\u001b[43morientation\u001b[49m\u001b[43m,\u001b[49m\n\u001b[32m   2191\u001b[39m \u001b[43m            \u001b[49m\u001b[43mbbox_inches_restore\u001b[49m\u001b[43m=\u001b[49m\u001b[43m_bbox_inches_restore\u001b[49m\u001b[43m,\u001b[49m\n\u001b[32m   2192\u001b[39m \u001b[43m            \u001b[49m\u001b[43m*\u001b[49m\u001b[43m*\u001b[49m\u001b[43mkwargs\u001b[49m\u001b[43m)\u001b[49m\n\u001b[32m   2193\u001b[39m \u001b[38;5;28;01mfinally\u001b[39;00m:\n\u001b[32m   2194\u001b[39m     \u001b[38;5;28;01mif\u001b[39;00m bbox_inches \u001b[38;5;129;01mand\u001b[39;00m restore_bbox:\n",
      "\u001b[36mFile \u001b[39m\u001b[32mc:\\Users\\bobtt\\OneDrive\\Desktop\\Documents\\JackCS\\cartpole\\cart\\Lib\\site-packages\\matplotlib\\backend_bases.py:2042\u001b[39m, in \u001b[36mFigureCanvasBase._switch_canvas_and_return_print_method.<locals>.<lambda>\u001b[39m\u001b[34m(*args, **kwargs)\u001b[39m\n\u001b[32m   2038\u001b[39m     optional_kws = {  \u001b[38;5;66;03m# Passed by print_figure for other renderers.\u001b[39;00m\n\u001b[32m   2039\u001b[39m         \u001b[33m\"\u001b[39m\u001b[33mdpi\u001b[39m\u001b[33m\"\u001b[39m, \u001b[33m\"\u001b[39m\u001b[33mfacecolor\u001b[39m\u001b[33m\"\u001b[39m, \u001b[33m\"\u001b[39m\u001b[33medgecolor\u001b[39m\u001b[33m\"\u001b[39m, \u001b[33m\"\u001b[39m\u001b[33morientation\u001b[39m\u001b[33m\"\u001b[39m,\n\u001b[32m   2040\u001b[39m         \u001b[33m\"\u001b[39m\u001b[33mbbox_inches_restore\u001b[39m\u001b[33m\"\u001b[39m}\n\u001b[32m   2041\u001b[39m     skip = optional_kws - {*inspect.signature(meth).parameters}\n\u001b[32m-> \u001b[39m\u001b[32m2042\u001b[39m     print_method = functools.wraps(meth)(\u001b[38;5;28;01mlambda\u001b[39;00m *args, **kwargs: \u001b[43mmeth\u001b[49m\u001b[43m(\u001b[49m\n\u001b[32m   2043\u001b[39m \u001b[43m        \u001b[49m\u001b[43m*\u001b[49m\u001b[43margs\u001b[49m\u001b[43m,\u001b[49m\u001b[43m \u001b[49m\u001b[43m*\u001b[49m\u001b[43m*\u001b[49m\u001b[43m{\u001b[49m\u001b[43mk\u001b[49m\u001b[43m:\u001b[49m\u001b[43m \u001b[49m\u001b[43mv\u001b[49m\u001b[43m \u001b[49m\u001b[38;5;28;43;01mfor\u001b[39;49;00m\u001b[43m \u001b[49m\u001b[43mk\u001b[49m\u001b[43m,\u001b[49m\u001b[43m \u001b[49m\u001b[43mv\u001b[49m\u001b[43m \u001b[49m\u001b[38;5;129;43;01min\u001b[39;49;00m\u001b[43m \u001b[49m\u001b[43mkwargs\u001b[49m\u001b[43m.\u001b[49m\u001b[43mitems\u001b[49m\u001b[43m(\u001b[49m\u001b[43m)\u001b[49m\u001b[43m \u001b[49m\u001b[38;5;28;43;01mif\u001b[39;49;00m\u001b[43m \u001b[49m\u001b[43mk\u001b[49m\u001b[43m \u001b[49m\u001b[38;5;129;43;01mnot\u001b[39;49;00m\u001b[43m \u001b[49m\u001b[38;5;129;43;01min\u001b[39;49;00m\u001b[43m \u001b[49m\u001b[43mskip\u001b[49m\u001b[43m}\u001b[49m\u001b[43m)\u001b[49m)\n\u001b[32m   2044\u001b[39m \u001b[38;5;28;01melse\u001b[39;00m:  \u001b[38;5;66;03m# Let third-parties do as they see fit.\u001b[39;00m\n\u001b[32m   2045\u001b[39m     print_method = meth\n",
      "\u001b[36mFile \u001b[39m\u001b[32mc:\\Users\\bobtt\\OneDrive\\Desktop\\Documents\\JackCS\\cartpole\\cart\\Lib\\site-packages\\matplotlib\\backends\\backend_agg.py:481\u001b[39m, in \u001b[36mFigureCanvasAgg.print_png\u001b[39m\u001b[34m(self, filename_or_obj, metadata, pil_kwargs)\u001b[39m\n\u001b[32m    434\u001b[39m \u001b[38;5;28;01mdef\u001b[39;00m\u001b[38;5;250m \u001b[39m\u001b[34mprint_png\u001b[39m(\u001b[38;5;28mself\u001b[39m, filename_or_obj, *, metadata=\u001b[38;5;28;01mNone\u001b[39;00m, pil_kwargs=\u001b[38;5;28;01mNone\u001b[39;00m):\n\u001b[32m    435\u001b[39m \u001b[38;5;250m    \u001b[39m\u001b[33;03m\"\"\"\u001b[39;00m\n\u001b[32m    436\u001b[39m \u001b[33;03m    Write the figure to a PNG file.\u001b[39;00m\n\u001b[32m    437\u001b[39m \n\u001b[32m   (...)\u001b[39m\u001b[32m    479\u001b[39m \u001b[33;03m        *metadata*, including the default 'Software' key.\u001b[39;00m\n\u001b[32m    480\u001b[39m \u001b[33;03m    \"\"\"\u001b[39;00m\n\u001b[32m--> \u001b[39m\u001b[32m481\u001b[39m     \u001b[38;5;28;43mself\u001b[39;49m\u001b[43m.\u001b[49m\u001b[43m_print_pil\u001b[49m\u001b[43m(\u001b[49m\u001b[43mfilename_or_obj\u001b[49m\u001b[43m,\u001b[49m\u001b[43m \u001b[49m\u001b[33;43m\"\u001b[39;49m\u001b[33;43mpng\u001b[39;49m\u001b[33;43m\"\u001b[39;49m\u001b[43m,\u001b[49m\u001b[43m \u001b[49m\u001b[43mpil_kwargs\u001b[49m\u001b[43m,\u001b[49m\u001b[43m \u001b[49m\u001b[43mmetadata\u001b[49m\u001b[43m)\u001b[49m\n",
      "\u001b[36mFile \u001b[39m\u001b[32mc:\\Users\\bobtt\\OneDrive\\Desktop\\Documents\\JackCS\\cartpole\\cart\\Lib\\site-packages\\matplotlib\\backends\\backend_agg.py:429\u001b[39m, in \u001b[36mFigureCanvasAgg._print_pil\u001b[39m\u001b[34m(self, filename_or_obj, fmt, pil_kwargs, metadata)\u001b[39m\n\u001b[32m    424\u001b[39m \u001b[38;5;28;01mdef\u001b[39;00m\u001b[38;5;250m \u001b[39m\u001b[34m_print_pil\u001b[39m(\u001b[38;5;28mself\u001b[39m, filename_or_obj, fmt, pil_kwargs, metadata=\u001b[38;5;28;01mNone\u001b[39;00m):\n\u001b[32m    425\u001b[39m \u001b[38;5;250m    \u001b[39m\u001b[33;03m\"\"\"\u001b[39;00m\n\u001b[32m    426\u001b[39m \u001b[33;03m    Draw the canvas, then save it using `.image.imsave` (to which\u001b[39;00m\n\u001b[32m    427\u001b[39m \u001b[33;03m    *pil_kwargs* and *metadata* are forwarded).\u001b[39;00m\n\u001b[32m    428\u001b[39m \u001b[33;03m    \"\"\"\u001b[39;00m\n\u001b[32m--> \u001b[39m\u001b[32m429\u001b[39m     \u001b[43mFigureCanvasAgg\u001b[49m\u001b[43m.\u001b[49m\u001b[43mdraw\u001b[49m\u001b[43m(\u001b[49m\u001b[38;5;28;43mself\u001b[39;49m\u001b[43m)\u001b[49m\n\u001b[32m    430\u001b[39m     mpl.image.imsave(\n\u001b[32m    431\u001b[39m         filename_or_obj, \u001b[38;5;28mself\u001b[39m.buffer_rgba(), \u001b[38;5;28mformat\u001b[39m=fmt, origin=\u001b[33m\"\u001b[39m\u001b[33mupper\u001b[39m\u001b[33m\"\u001b[39m,\n\u001b[32m    432\u001b[39m         dpi=\u001b[38;5;28mself\u001b[39m.figure.dpi, metadata=metadata, pil_kwargs=pil_kwargs)\n",
      "\u001b[36mFile \u001b[39m\u001b[32mc:\\Users\\bobtt\\OneDrive\\Desktop\\Documents\\JackCS\\cartpole\\cart\\Lib\\site-packages\\matplotlib\\backends\\backend_agg.py:382\u001b[39m, in \u001b[36mFigureCanvasAgg.draw\u001b[39m\u001b[34m(self)\u001b[39m\n\u001b[32m    379\u001b[39m \u001b[38;5;66;03m# Acquire a lock on the shared font cache.\u001b[39;00m\n\u001b[32m    380\u001b[39m \u001b[38;5;28;01mwith\u001b[39;00m (\u001b[38;5;28mself\u001b[39m.toolbar._wait_cursor_for_draw_cm() \u001b[38;5;28;01mif\u001b[39;00m \u001b[38;5;28mself\u001b[39m.toolbar\n\u001b[32m    381\u001b[39m       \u001b[38;5;28;01melse\u001b[39;00m nullcontext()):\n\u001b[32m--> \u001b[39m\u001b[32m382\u001b[39m     \u001b[38;5;28;43mself\u001b[39;49m\u001b[43m.\u001b[49m\u001b[43mfigure\u001b[49m\u001b[43m.\u001b[49m\u001b[43mdraw\u001b[49m\u001b[43m(\u001b[49m\u001b[38;5;28;43mself\u001b[39;49m\u001b[43m.\u001b[49m\u001b[43mrenderer\u001b[49m\u001b[43m)\u001b[49m\n\u001b[32m    383\u001b[39m     \u001b[38;5;66;03m# A GUI class may be need to update a window using this draw, so\u001b[39;00m\n\u001b[32m    384\u001b[39m     \u001b[38;5;66;03m# don't forget to call the superclass.\u001b[39;00m\n\u001b[32m    385\u001b[39m     \u001b[38;5;28msuper\u001b[39m().draw()\n",
      "\u001b[36mFile \u001b[39m\u001b[32mc:\\Users\\bobtt\\OneDrive\\Desktop\\Documents\\JackCS\\cartpole\\cart\\Lib\\site-packages\\matplotlib\\artist.py:94\u001b[39m, in \u001b[36m_finalize_rasterization.<locals>.draw_wrapper\u001b[39m\u001b[34m(artist, renderer, *args, **kwargs)\u001b[39m\n\u001b[32m     92\u001b[39m \u001b[38;5;129m@wraps\u001b[39m(draw)\n\u001b[32m     93\u001b[39m \u001b[38;5;28;01mdef\u001b[39;00m\u001b[38;5;250m \u001b[39m\u001b[34mdraw_wrapper\u001b[39m(artist, renderer, *args, **kwargs):\n\u001b[32m---> \u001b[39m\u001b[32m94\u001b[39m     result = \u001b[43mdraw\u001b[49m\u001b[43m(\u001b[49m\u001b[43martist\u001b[49m\u001b[43m,\u001b[49m\u001b[43m \u001b[49m\u001b[43mrenderer\u001b[49m\u001b[43m,\u001b[49m\u001b[43m \u001b[49m\u001b[43m*\u001b[49m\u001b[43margs\u001b[49m\u001b[43m,\u001b[49m\u001b[43m \u001b[49m\u001b[43m*\u001b[49m\u001b[43m*\u001b[49m\u001b[43mkwargs\u001b[49m\u001b[43m)\u001b[49m\n\u001b[32m     95\u001b[39m     \u001b[38;5;28;01mif\u001b[39;00m renderer._rasterizing:\n\u001b[32m     96\u001b[39m         renderer.stop_rasterizing()\n",
      "\u001b[36mFile \u001b[39m\u001b[32mc:\\Users\\bobtt\\OneDrive\\Desktop\\Documents\\JackCS\\cartpole\\cart\\Lib\\site-packages\\matplotlib\\artist.py:71\u001b[39m, in \u001b[36mallow_rasterization.<locals>.draw_wrapper\u001b[39m\u001b[34m(artist, renderer)\u001b[39m\n\u001b[32m     68\u001b[39m     \u001b[38;5;28;01mif\u001b[39;00m artist.get_agg_filter() \u001b[38;5;129;01mis\u001b[39;00m \u001b[38;5;129;01mnot\u001b[39;00m \u001b[38;5;28;01mNone\u001b[39;00m:\n\u001b[32m     69\u001b[39m         renderer.start_filter()\n\u001b[32m---> \u001b[39m\u001b[32m71\u001b[39m     \u001b[38;5;28;01mreturn\u001b[39;00m \u001b[43mdraw\u001b[49m\u001b[43m(\u001b[49m\u001b[43martist\u001b[49m\u001b[43m,\u001b[49m\u001b[43m \u001b[49m\u001b[43mrenderer\u001b[49m\u001b[43m)\u001b[49m\n\u001b[32m     72\u001b[39m \u001b[38;5;28;01mfinally\u001b[39;00m:\n\u001b[32m     73\u001b[39m     \u001b[38;5;28;01mif\u001b[39;00m artist.get_agg_filter() \u001b[38;5;129;01mis\u001b[39;00m \u001b[38;5;129;01mnot\u001b[39;00m \u001b[38;5;28;01mNone\u001b[39;00m:\n",
      "\u001b[36mFile \u001b[39m\u001b[32mc:\\Users\\bobtt\\OneDrive\\Desktop\\Documents\\JackCS\\cartpole\\cart\\Lib\\site-packages\\matplotlib\\figure.py:3257\u001b[39m, in \u001b[36mFigure.draw\u001b[39m\u001b[34m(self, renderer)\u001b[39m\n\u001b[32m   3254\u001b[39m             \u001b[38;5;66;03m# ValueError can occur when resizing a window.\u001b[39;00m\n\u001b[32m   3256\u001b[39m     \u001b[38;5;28mself\u001b[39m.patch.draw(renderer)\n\u001b[32m-> \u001b[39m\u001b[32m3257\u001b[39m     \u001b[43mmimage\u001b[49m\u001b[43m.\u001b[49m\u001b[43m_draw_list_compositing_images\u001b[49m\u001b[43m(\u001b[49m\n\u001b[32m   3258\u001b[39m \u001b[43m        \u001b[49m\u001b[43mrenderer\u001b[49m\u001b[43m,\u001b[49m\u001b[43m \u001b[49m\u001b[38;5;28;43mself\u001b[39;49m\u001b[43m,\u001b[49m\u001b[43m \u001b[49m\u001b[43martists\u001b[49m\u001b[43m,\u001b[49m\u001b[43m \u001b[49m\u001b[38;5;28;43mself\u001b[39;49m\u001b[43m.\u001b[49m\u001b[43msuppressComposite\u001b[49m\u001b[43m)\u001b[49m\n\u001b[32m   3260\u001b[39m     renderer.close_group(\u001b[33m'\u001b[39m\u001b[33mfigure\u001b[39m\u001b[33m'\u001b[39m)\n\u001b[32m   3261\u001b[39m \u001b[38;5;28;01mfinally\u001b[39;00m:\n",
      "\u001b[36mFile \u001b[39m\u001b[32mc:\\Users\\bobtt\\OneDrive\\Desktop\\Documents\\JackCS\\cartpole\\cart\\Lib\\site-packages\\matplotlib\\image.py:134\u001b[39m, in \u001b[36m_draw_list_compositing_images\u001b[39m\u001b[34m(renderer, parent, artists, suppress_composite)\u001b[39m\n\u001b[32m    132\u001b[39m \u001b[38;5;28;01mif\u001b[39;00m not_composite \u001b[38;5;129;01mor\u001b[39;00m \u001b[38;5;129;01mnot\u001b[39;00m has_images:\n\u001b[32m    133\u001b[39m     \u001b[38;5;28;01mfor\u001b[39;00m a \u001b[38;5;129;01min\u001b[39;00m artists:\n\u001b[32m--> \u001b[39m\u001b[32m134\u001b[39m         \u001b[43ma\u001b[49m\u001b[43m.\u001b[49m\u001b[43mdraw\u001b[49m\u001b[43m(\u001b[49m\u001b[43mrenderer\u001b[49m\u001b[43m)\u001b[49m\n\u001b[32m    135\u001b[39m \u001b[38;5;28;01melse\u001b[39;00m:\n\u001b[32m    136\u001b[39m     \u001b[38;5;66;03m# Composite any adjacent images together\u001b[39;00m\n\u001b[32m    137\u001b[39m     image_group = []\n",
      "\u001b[36mFile \u001b[39m\u001b[32mc:\\Users\\bobtt\\OneDrive\\Desktop\\Documents\\JackCS\\cartpole\\cart\\Lib\\site-packages\\matplotlib\\artist.py:71\u001b[39m, in \u001b[36mallow_rasterization.<locals>.draw_wrapper\u001b[39m\u001b[34m(artist, renderer)\u001b[39m\n\u001b[32m     68\u001b[39m     \u001b[38;5;28;01mif\u001b[39;00m artist.get_agg_filter() \u001b[38;5;129;01mis\u001b[39;00m \u001b[38;5;129;01mnot\u001b[39;00m \u001b[38;5;28;01mNone\u001b[39;00m:\n\u001b[32m     69\u001b[39m         renderer.start_filter()\n\u001b[32m---> \u001b[39m\u001b[32m71\u001b[39m     \u001b[38;5;28;01mreturn\u001b[39;00m \u001b[43mdraw\u001b[49m\u001b[43m(\u001b[49m\u001b[43martist\u001b[49m\u001b[43m,\u001b[49m\u001b[43m \u001b[49m\u001b[43mrenderer\u001b[49m\u001b[43m)\u001b[49m\n\u001b[32m     72\u001b[39m \u001b[38;5;28;01mfinally\u001b[39;00m:\n\u001b[32m     73\u001b[39m     \u001b[38;5;28;01mif\u001b[39;00m artist.get_agg_filter() \u001b[38;5;129;01mis\u001b[39;00m \u001b[38;5;129;01mnot\u001b[39;00m \u001b[38;5;28;01mNone\u001b[39;00m:\n",
      "\u001b[36mFile \u001b[39m\u001b[32mc:\\Users\\bobtt\\OneDrive\\Desktop\\Documents\\JackCS\\cartpole\\cart\\Lib\\site-packages\\matplotlib\\axes\\_base.py:3226\u001b[39m, in \u001b[36m_AxesBase.draw\u001b[39m\u001b[34m(self, renderer)\u001b[39m\n\u001b[32m   3223\u001b[39m \u001b[38;5;28;01mif\u001b[39;00m artists_rasterized:\n\u001b[32m   3224\u001b[39m     _draw_rasterized(\u001b[38;5;28mself\u001b[39m.get_figure(root=\u001b[38;5;28;01mTrue\u001b[39;00m), artists_rasterized, renderer)\n\u001b[32m-> \u001b[39m\u001b[32m3226\u001b[39m \u001b[43mmimage\u001b[49m\u001b[43m.\u001b[49m\u001b[43m_draw_list_compositing_images\u001b[49m\u001b[43m(\u001b[49m\n\u001b[32m   3227\u001b[39m \u001b[43m    \u001b[49m\u001b[43mrenderer\u001b[49m\u001b[43m,\u001b[49m\u001b[43m \u001b[49m\u001b[38;5;28;43mself\u001b[39;49m\u001b[43m,\u001b[49m\u001b[43m \u001b[49m\u001b[43martists\u001b[49m\u001b[43m,\u001b[49m\u001b[43m \u001b[49m\u001b[38;5;28;43mself\u001b[39;49m\u001b[43m.\u001b[49m\u001b[43mget_figure\u001b[49m\u001b[43m(\u001b[49m\u001b[43mroot\u001b[49m\u001b[43m=\u001b[49m\u001b[38;5;28;43;01mTrue\u001b[39;49;00m\u001b[43m)\u001b[49m\u001b[43m.\u001b[49m\u001b[43msuppressComposite\u001b[49m\u001b[43m)\u001b[49m\n\u001b[32m   3229\u001b[39m renderer.close_group(\u001b[33m'\u001b[39m\u001b[33maxes\u001b[39m\u001b[33m'\u001b[39m)\n\u001b[32m   3230\u001b[39m \u001b[38;5;28mself\u001b[39m.stale = \u001b[38;5;28;01mFalse\u001b[39;00m\n",
      "\u001b[36mFile \u001b[39m\u001b[32mc:\\Users\\bobtt\\OneDrive\\Desktop\\Documents\\JackCS\\cartpole\\cart\\Lib\\site-packages\\matplotlib\\image.py:134\u001b[39m, in \u001b[36m_draw_list_compositing_images\u001b[39m\u001b[34m(renderer, parent, artists, suppress_composite)\u001b[39m\n\u001b[32m    132\u001b[39m \u001b[38;5;28;01mif\u001b[39;00m not_composite \u001b[38;5;129;01mor\u001b[39;00m \u001b[38;5;129;01mnot\u001b[39;00m has_images:\n\u001b[32m    133\u001b[39m     \u001b[38;5;28;01mfor\u001b[39;00m a \u001b[38;5;129;01min\u001b[39;00m artists:\n\u001b[32m--> \u001b[39m\u001b[32m134\u001b[39m         \u001b[43ma\u001b[49m\u001b[43m.\u001b[49m\u001b[43mdraw\u001b[49m\u001b[43m(\u001b[49m\u001b[43mrenderer\u001b[49m\u001b[43m)\u001b[49m\n\u001b[32m    135\u001b[39m \u001b[38;5;28;01melse\u001b[39;00m:\n\u001b[32m    136\u001b[39m     \u001b[38;5;66;03m# Composite any adjacent images together\u001b[39;00m\n\u001b[32m    137\u001b[39m     image_group = []\n",
      "\u001b[36mFile \u001b[39m\u001b[32mc:\\Users\\bobtt\\OneDrive\\Desktop\\Documents\\JackCS\\cartpole\\cart\\Lib\\site-packages\\matplotlib\\artist.py:71\u001b[39m, in \u001b[36mallow_rasterization.<locals>.draw_wrapper\u001b[39m\u001b[34m(artist, renderer)\u001b[39m\n\u001b[32m     68\u001b[39m     \u001b[38;5;28;01mif\u001b[39;00m artist.get_agg_filter() \u001b[38;5;129;01mis\u001b[39;00m \u001b[38;5;129;01mnot\u001b[39;00m \u001b[38;5;28;01mNone\u001b[39;00m:\n\u001b[32m     69\u001b[39m         renderer.start_filter()\n\u001b[32m---> \u001b[39m\u001b[32m71\u001b[39m     \u001b[38;5;28;01mreturn\u001b[39;00m \u001b[43mdraw\u001b[49m\u001b[43m(\u001b[49m\u001b[43martist\u001b[49m\u001b[43m,\u001b[49m\u001b[43m \u001b[49m\u001b[43mrenderer\u001b[49m\u001b[43m)\u001b[49m\n\u001b[32m     72\u001b[39m \u001b[38;5;28;01mfinally\u001b[39;00m:\n\u001b[32m     73\u001b[39m     \u001b[38;5;28;01mif\u001b[39;00m artist.get_agg_filter() \u001b[38;5;129;01mis\u001b[39;00m \u001b[38;5;129;01mnot\u001b[39;00m \u001b[38;5;28;01mNone\u001b[39;00m:\n",
      "\u001b[36mFile \u001b[39m\u001b[32mc:\\Users\\bobtt\\OneDrive\\Desktop\\Documents\\JackCS\\cartpole\\cart\\Lib\\site-packages\\matplotlib\\text.py:808\u001b[39m, in \u001b[36mText.draw\u001b[39m\u001b[34m(self, renderer)\u001b[39m\n\u001b[32m    804\u001b[39m             textrenderer.draw_tex(gc, x, y, clean_line,\n\u001b[32m    805\u001b[39m                                   \u001b[38;5;28mself\u001b[39m._fontproperties, angle,\n\u001b[32m    806\u001b[39m                                   mtext=mtext)\n\u001b[32m    807\u001b[39m         \u001b[38;5;28;01melse\u001b[39;00m:\n\u001b[32m--> \u001b[39m\u001b[32m808\u001b[39m             \u001b[43mtextrenderer\u001b[49m\u001b[43m.\u001b[49m\u001b[43mdraw_text\u001b[49m\u001b[43m(\u001b[49m\u001b[43mgc\u001b[49m\u001b[43m,\u001b[49m\u001b[43m \u001b[49m\u001b[43mx\u001b[49m\u001b[43m,\u001b[49m\u001b[43m \u001b[49m\u001b[43my\u001b[49m\u001b[43m,\u001b[49m\u001b[43m \u001b[49m\u001b[43mclean_line\u001b[49m\u001b[43m,\u001b[49m\n\u001b[32m    809\u001b[39m \u001b[43m                                   \u001b[49m\u001b[38;5;28;43mself\u001b[39;49m\u001b[43m.\u001b[49m\u001b[43m_fontproperties\u001b[49m\u001b[43m,\u001b[49m\u001b[43m \u001b[49m\u001b[43mangle\u001b[49m\u001b[43m,\u001b[49m\n\u001b[32m    810\u001b[39m \u001b[43m                                   \u001b[49m\u001b[43mismath\u001b[49m\u001b[43m=\u001b[49m\u001b[43mismath\u001b[49m\u001b[43m,\u001b[49m\u001b[43m \u001b[49m\u001b[43mmtext\u001b[49m\u001b[43m=\u001b[49m\u001b[43mmtext\u001b[49m\u001b[43m)\u001b[49m\n\u001b[32m    812\u001b[39m gc.restore()\n\u001b[32m    813\u001b[39m renderer.close_group(\u001b[33m'\u001b[39m\u001b[33mtext\u001b[39m\u001b[33m'\u001b[39m)\n",
      "\u001b[36mFile \u001b[39m\u001b[32mc:\\Users\\bobtt\\OneDrive\\Desktop\\Documents\\JackCS\\cartpole\\cart\\Lib\\site-packages\\matplotlib\\backends\\backend_agg.py:192\u001b[39m, in \u001b[36mRendererAgg.draw_text\u001b[39m\u001b[34m(self, gc, x, y, s, prop, angle, ismath, mtext)\u001b[39m\n\u001b[32m    189\u001b[39m font = \u001b[38;5;28mself\u001b[39m._prepare_font(prop)\n\u001b[32m    190\u001b[39m \u001b[38;5;66;03m# We pass '0' for angle here, since it will be rotated (in raster\u001b[39;00m\n\u001b[32m    191\u001b[39m \u001b[38;5;66;03m# space) in the following call to draw_text_image).\u001b[39;00m\n\u001b[32m--> \u001b[39m\u001b[32m192\u001b[39m \u001b[43mfont\u001b[49m\u001b[43m.\u001b[49m\u001b[43mset_text\u001b[49m\u001b[43m(\u001b[49m\u001b[43ms\u001b[49m\u001b[43m,\u001b[49m\u001b[43m \u001b[49m\u001b[32;43m0\u001b[39;49m\u001b[43m,\u001b[49m\u001b[43m \u001b[49m\u001b[43mflags\u001b[49m\u001b[43m=\u001b[49m\u001b[43mget_hinting_flag\u001b[49m\u001b[43m(\u001b[49m\u001b[43m)\u001b[49m\u001b[43m)\u001b[49m\n\u001b[32m    193\u001b[39m font.draw_glyphs_to_bitmap(\n\u001b[32m    194\u001b[39m     antialiased=gc.get_antialiased())\n\u001b[32m    195\u001b[39m d = font.get_descent() / \u001b[32m64.0\u001b[39m\n",
      "\u001b[31mKeyboardInterrupt\u001b[39m: "
     ]
    },
    {
     "data": {
      "image/png": "[encoded data removed]",
      "text/plain": [
       "<Figure size 640x480 with 1 Axes>"
      ]
     },
     "metadata": {},
     "output_type": "display_data"
    }
   ],
   "source": [
    "for i in range(EPISODES):\n",
    "    #initialize the environment for each episode to have a random state\n",
    "    data.qpos[0], data.qvel[0], data.qpos[1], data.qvel[1] = Intial_state()\n",
    "    data.ctrl[:] = 0\n",
    "    #Total reward is used to graph\n",
    "    total_reward = 0.0\n",
    "    total_rewards_overtime = []\n",
    "    rewards = []\n",
    "\n",
    "    #Lists to store states, actions, and log probabilities for each step\n",
    "    log_probs = []\n",
    "\n",
    "    #Getting states\n",
    "    raw_state = gather_raw_state(data)\n",
    "    state = normalize_state(raw_state)\n",
    "\n",
    "    #Now lets iterate through the steps of the episode\n",
    "    for step in range(MAX_STEPS):\n",
    "\n",
    "        if RENDER_TRAINING:\n",
    "            viewer.render()\n",
    "        \n",
    "        #Getting the action from the policy network\n",
    "        action, log_prob = sample_action(policy_net, state)\n",
    "        #Storing the log probability of the action for training later\n",
    "        log_probs.append(log_prob)\n",
    "        if action == 0:\n",
    "            left(data)\n",
    "        else:\n",
    "            right(data)\n",
    "\n",
    "        #Step the simulation forward\n",
    "        mujoco.mj_step(model, data)\n",
    "        next_raw_state = gather_raw_state(data)\n",
    "        next_state = normalize_state(next_raw_state)\n",
    "\n",
    "        #Compute the reward and check if the episode is done\n",
    "        reward = compute_reward(next_raw_state)\n",
    "        if episode_finished(next_raw_state):\n",
    "            rewards.append(reward)\n",
    "            total_reward += reward\n",
    "            break\n",
    "\n",
    "        #setting the state to the next state\n",
    "        state = next_state\n",
    "        raw_state = next_raw_state\n",
    "        \n",
    "        #Accumulate the rewards\n",
    "        total_reward += reward\n",
    "        rewards.append(reward)\n",
    "    \n",
    "    returns = compute_discounted_returns(rewards, gamma=0.99)\n",
    "    # Stack log_probs into a tensor and multiply by returns elementwise\n",
    "    log_probs_t = torch.stack(log_probs)  # shape [T]\n",
    "    # Ensure lengths match\n",
    "    T = min(len(returns), len(log_probs_t))\n",
    "    loss = -(log_probs_t[:T] * returns[:T]).sum()\n",
    "\n",
    "    optimizer.zero_grad()\n",
    "    loss.backward()\n",
    "    optimizer.step()\n",
    "\n",
    "    total_rewards_overtime.append(total_reward)\n",
    "    plot_rewards(total_rewards_overtime)\n",
    "\n",
    "    \n",
    "    print(f\"Episode {i+1}/{EPISODES}, Total Reward: {float(total_reward):.3f}, Steps: {step+1}\")\n"
   ]
  }
 ],
 "metadata": {
  "kernelspec": {
   "display_name": "cart",
   "language": "python",
   "name": "python3"
  },
  "language_info": {
   "codemirror_mode": {
    "name": "ipython",
    "version": 3
   },
   "file_extension": ".py",
   "mimetype": "text/x-python",
   "name": "python",
   "nbconvert_exporter": "python",
   "pygments_lexer": "ipython3",
   "version": "3.11.3"
  }
 },
 "nbformat": 4,
 "nbformat_minor": 5
}
