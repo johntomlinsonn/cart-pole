{
 "cells": [
  {
   "cell_type": "markdown",
   "id": "2a7460a5",
   "metadata": {},
   "source": [
    "We will be researching the Cart-pole problem with a policy gradient agorithim"
   ]
  },
  {
   "cell_type": "markdown",
   "id": "8a46013b",
   "metadata": {},
   "source": [
    "We Must first build our enviorment that are reinforcement learning model will learn in"
   ]
  },
  {
   "cell_type": "code",
   "execution_count": 1,
   "id": "e7a8b45c",
   "metadata": {},
   "outputs": [],
   "source": [
    "import mujoco\n",
    "import mujoco_viewer"
   ]
  },
  {
   "cell_type": "markdown",
   "id": "b35474f6",
   "metadata": {},
   "source": [
    "Necessary Constants for how we want the learning process to undergo"
   ]
  },
  {
   "cell_type": "code",
   "execution_count": 2,
   "id": "c245101b",
   "metadata": {},
   "outputs": [],
   "source": [
    "RENDER_TRAINING = True"
   ]
  },
  {
   "cell_type": "code",
   "execution_count": 2,
   "id": "77b11ebf",
   "metadata": {},
   "outputs": [],
   "source": [
    "def create_env(model_path=\"cartpole.xml\"):\n",
    "    model = mujoco.MjModel.from_xml_path(model_path)\n",
    "    data = mujoco.MjData(model)\n",
    "    if RENDER_TRAINING:\n",
    "        viewer = mujoco_viewer.MujocoViewer(model, data)\n",
    "    else:\n",
    "        viewer = None\n",
    "    return model, data, viewer"
   ]
  },
  {
   "cell_type": "markdown",
   "id": "04e23484",
   "metadata": {},
   "source": [
    "Now let's create the neccesary functions for our enviorment\n",
    "\n",
    "Our model will take in 4 values: X value, X velocity, Theta value, Theta velocity.\n",
    "\n",
    "We will need the enviorment randomized every new episode played by the model"
   ]
  },
  {
   "cell_type": "code",
   "execution_count": 3,
   "id": "a54cb5ba",
   "metadata": {},
   "outputs": [],
   "source": [
    "import random as rand\n",
    "import math\n",
    "def Intial_state():\n",
    "    theta = rand.uniform(-math.radians(6), math.radians(6))\n",
    "    xpos = rand.uniform(-0.05, 0.05)\n",
    "    xdot = rand.uniform(-0.5, 0.5)\n",
    "    theta_dot = 0\n",
    "    return xpos, xdot, theta, theta_dot"
   ]
  },
  {
   "cell_type": "markdown",
   "id": "7f5b5274",
   "metadata": {},
   "source": [
    "Now lets make the neccessary functions for our model. It needs to pushed to the left and to the right. We will use the data.crtl[0] to use the simulated acctuators that are in our model. The data element is all of the data of the cartpole at any moment this includes X Velo, theta Velo, X Pos, Theta Pos"
   ]
  },
  {
   "cell_type": "code",
   "execution_count": 4,
   "id": "722a33f1",
   "metadata": {},
   "outputs": [],
   "source": [
    "import numpy as np\n",
    "FORCE_MAG = 1.0\n",
    "\n",
    "def right(data, force=FORCE_MAG):\n",
    "    data.ctrl[0] = np.clip(force, -1.0, 1.0)\n",
    "\n",
    "\n",
    "def left(data, force=FORCE_MAG):\n",
    "    data.ctrl[0] = np.clip(-force, -1.0, 1.0)"
   ]
  },
  {
   "cell_type": "markdown",
   "id": "9c2953de",
   "metadata": {},
   "source": [
    "Our model will need to know the state it is in, so we will create a function to get the raw values of the state for the model"
   ]
  },
  {
   "cell_type": "code",
   "execution_count": 5,
   "id": "99df24db",
   "metadata": {},
   "outputs": [],
   "source": [
    "def gather_raw_state(data):\n",
    "    xpos = data.qpos[0]\n",
    "    xdot = data.qvel[0]\n",
    "    theta = data.qpos[1]\n",
    "    theta_dot = data.qvel[1]\n",
    "    return np.array([xpos, xdot, theta, theta_dot], dtype=np.float32)"
   ]
  },
  {
   "cell_type": "markdown",
   "id": "934afc0a",
   "metadata": {},
   "source": [
    "Now we must create our Nueral Network for the cartpole problem\n",
    "We will be creating a nueral netowrk through pytorch. It will take in 4 dimensions as an input for the network: X Value, X Velocity, Theta value, Theta Velocity\n",
    "\n",
    "We will have 3 layers in the netowrk, teh first will take in the state layer, second being an input from the frist, and the thrid being an input from the second and outputting an action from our action set. Our action set is either sliding to the left or sliding to the right."
   ]
  },
  {
   "cell_type": "code",
   "execution_count": null,
   "id": "e60ebeed",
   "metadata": {},
   "outputs": [],
   "source": [
    "import torch\n",
    "import torch.nn as nn\n",
    "\n",
    "class PolicyNetwork(nn.Module):\n",
    "    def __init__(self,state_dim = 4, action_dim = 2, hidden_dim = 128):\n",
    "        super().__init__()\n",
    "        self.layer1 = nn.Linear(state_dim, hidden_dim)\n",
    "        self.layer2 = nn.Linear(hidden_dim, hidden_dim)\n",
    "        self.output_layer = nn.Linear(hidden_dim, action_dim)\n",
    "\n",
    "    def forward(self, x):\n",
    "        x = torch.relu(self.layer1(x))\n",
    "        x = torch.softmax(self.layer2(x), dim=-1)\n",
    "        return self.output_layer(x)"
   ]
  }
 ],
 "metadata": {
  "kernelspec": {
   "display_name": "cart",
   "language": "python",
   "name": "python3"
  },
  "language_info": {
   "codemirror_mode": {
    "name": "ipython",
    "version": 3
   },
   "file_extension": ".py",
   "mimetype": "text/x-python",
   "name": "python",
   "nbconvert_exporter": "python",
   "pygments_lexer": "ipython3",
   "version": "3.13.5"
  }
 },
 "nbformat": 4,
 "nbformat_minor": 5
}
